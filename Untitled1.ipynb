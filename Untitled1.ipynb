{
  "nbformat": 4,
  "nbformat_minor": 0,
  "metadata": {
    "colab": {
      "provenance": [],
      "authorship_tag": "ABX9TyM4Kd9OIdlTbqBrIrL4UJCf",
      "include_colab_link": true
    },
    "kernelspec": {
      "name": "python3",
      "display_name": "Python 3"
    },
    "language_info": {
      "name": "python"
    }
  },
  "cells": [
    {
      "cell_type": "markdown",
      "metadata": {
        "id": "view-in-github",
        "colab_type": "text"
      },
      "source": [
        "<a href=\"https://colab.research.google.com/github/sofisofi01/Machine-learning/blob/main/Untitled1.ipynb\" target=\"_parent\"><img src=\"https://colab.research.google.com/assets/colab-badge.svg\" alt=\"Open In Colab\"/></a>"
      ]
    },
    {
      "cell_type": "markdown",
      "source": [
        "Импорт библиотек\n",
        "☝"
      ],
      "metadata": {
        "id": "aM6Zy3chBxtS"
      }
    },
    {
      "cell_type": "code",
      "execution_count": 18,
      "metadata": {
        "colab": {
          "base_uri": "https://localhost:8080/"
        },
        "id": "cs9KA-Ml6pdz",
        "outputId": "98dbdeca-fd5a-4c8e-96d3-894091cd1fff"
      },
      "outputs": [
        {
          "output_type": "stream",
          "name": "stdout",
          "text": [
            "Количество строк и столбцов: (150, 4)\n",
            "Начало датасета:\n",
            "   Year                  Title  \\\n",
            "0  1915  The Birth of a Nation   \n",
            "1  1916            Intolerance   \n",
            "2  1917              Cleopatra   \n",
            "3  1918                 Mickey   \n",
            "4  1919        The Miracle Man   \n",
            "\n",
            "                                     Worldwide Gross    Budget  \n",
            "0  $50,000,000–100,000,000$20,000,000+R($5,200,000)R  $110,000  \n",
            "1                                      $1,750,000RIN  $385,907  \n",
            "2                                         $500,000*R  $300,000  \n",
            "3                                         $8,000,000  $250,000  \n",
            "4                                        $3,000,000R  $120,000   \n",
            "\n",
            "Конец датасета:\n",
            "     Year                      Title                  Worldwide Gross  \\\n",
            "145  2020  Demon Slayer: Mugen Train                     $507,119,058   \n",
            "146  2021    Spider-Man: No Way Home  $1,921,847,111 ($1,912,233,593)   \n",
            "147  2022   Avatar: The Way of Water                   $2,320,250,281   \n",
            "148  2023                    Barbie†                   $1,445,638,421   \n",
            "149  2024             The Beekeeper†                     $105,504,747   \n",
            "\n",
            "                       Budget  \n",
            "145               $15,750,000  \n",
            "146              $200,000,000  \n",
            "147  $350,000,000–460,000,000  \n",
            "148  $128,000,000–145,000,000  \n",
            "149                       TBD   \n",
            "\n",
            "Типы колонок:\n",
            "Year                int64\n",
            "Title              object\n",
            "Worldwide Gross    object\n",
            "Budget             object\n",
            "dtype: object \n",
            "\n",
            "Список колонок:\n",
            "Index(['Year', 'Title', 'Worldwide Gross', 'Budget'], dtype='object') \n",
            "\n",
            "Среднее арифметическое по колонкам:\n",
            "Year    1965.286667\n",
            "dtype: float64 \n",
            "\n",
            "Минимальные значения по колонкам:\n",
            "Year                                        1915\n",
            "Title               20,000 Leagues Under the Sea\n",
            "Worldwide Gross    $1,007,336,937 ($997,039,412)\n",
            "Budget                                $1,000,000\n",
            "dtype: object \n",
            "\n",
            "Максимальные значения по колонкам:\n",
            "Year                                     2024\n",
            "Title              You Can't Take It with You\n",
            "Worldwide Gross    $968,511,805($763,455,561)\n",
            "Budget                  £505,581(~$2,000,000)\n",
            "dtype: object\n"
          ]
        },
        {
          "output_type": "stream",
          "name": "stderr",
          "text": [
            "<ipython-input-18-c4d4b115a615>:14: FutureWarning: The default value of numeric_only in DataFrame.mean is deprecated. In a future version, it will default to False. In addition, specifying 'numeric_only=None' is deprecated. Select only valid columns or specify the value of numeric_only to silence this warning.\n",
            "  print(df.mean(), \"\\n\")\n"
          ]
        }
      ],
      "source": [
        "import pandas as pd\n",
        "import numpy as np\n",
        "df = pd.read_csv(\"high_grossing_films_by_year.csv\")\n",
        "print(\"Количество строк и столбцов:\", df.shape)\n",
        "print(\"Начало датасета:\")\n",
        "print(df.head(), \"\\n\")\n",
        "print(\"Конец датасета:\")\n",
        "print(df.tail(), \"\\n\")\n",
        "print(\"Типы колонок:\")\n",
        "print(df.dtypes, \"\\n\")\n",
        "print(\"Список колонок:\")\n",
        "print(df.columns, \"\\n\")\n",
        "print(\"Среднее арифметическое по колонкам:\")\n",
        "print(df.mean(), \"\\n\")\n",
        "print(\"Минимальные значения по колонкам:\")\n",
        "print(df.min(), \"\\n\")\n",
        "print(\"Максимальные значения по колонкам:\")\n",
        "print(df.max())"
      ]
    },
    {
      "cell_type": "markdown",
      "source": [],
      "metadata": {
        "id": "YxDK-jshBw_j"
      }
    },
    {
      "cell_type": "code",
      "source": [],
      "metadata": {
        "id": "2x2w8_uX8VPf"
      },
      "execution_count": 15,
      "outputs": []
    }
  ]
}